{
 "cells": [
  {
   "cell_type": "code",
   "execution_count": 7,
   "metadata": {},
   "outputs": [],
   "source": [
    "import pandas as pd\n",
    "purchase_data = pd.read_csv(\"./Resources/purchase_data.csv\")"
   ]
  },
  {
   "cell_type": "code",
   "execution_count": 104,
   "metadata": {},
   "outputs": [
    {
     "data": {
      "text/html": [
       "<div>\n",
       "<style scoped>\n",
       "    .dataframe tbody tr th:only-of-type {\n",
       "        vertical-align: middle;\n",
       "    }\n",
       "\n",
       "    .dataframe tbody tr th {\n",
       "        vertical-align: top;\n",
       "    }\n",
       "\n",
       "    .dataframe thead th {\n",
       "        text-align: right;\n",
       "    }\n",
       "</style>\n",
       "<table border=\"1\" class=\"dataframe\">\n",
       "  <thead>\n",
       "    <tr style=\"text-align: right;\">\n",
       "      <th></th>\n",
       "      <th>Total Players</th>\n",
       "    </tr>\n",
       "  </thead>\n",
       "  <tbody>\n",
       "    <tr>\n",
       "      <th>0</th>\n",
       "      <td>576</td>\n",
       "    </tr>\n",
       "  </tbody>\n",
       "</table>\n",
       "</div>"
      ],
      "text/plain": [
       "   Total Players\n",
       "0            576"
      ]
     },
     "execution_count": 104,
     "metadata": {},
     "output_type": "execute_result"
    }
   ],
   "source": [
    "unique_players = pd.DataFrame(purchase_data.SN.unique(), columns=['0'])\n",
    "total_players = pd.DataFrame(unique_players.count(), columns=['Total Players'])\n",
    "total_players.head()"
   ]
  },
  {
   "cell_type": "code",
   "execution_count": 114,
   "metadata": {},
   "outputs": [
    {
     "name": "stdout",
     "output_type": "stream",
     "text": [
      "0    780\n",
      "dtype: int64\n"
     ]
    },
    {
     "data": {
      "text/html": [
       "<div>\n",
       "<style scoped>\n",
       "    .dataframe tbody tr th:only-of-type {\n",
       "        vertical-align: middle;\n",
       "    }\n",
       "\n",
       "    .dataframe tbody tr th {\n",
       "        vertical-align: top;\n",
       "    }\n",
       "\n",
       "    .dataframe thead th {\n",
       "        text-align: right;\n",
       "    }\n",
       "</style>\n",
       "<table border=\"1\" class=\"dataframe\">\n",
       "  <thead>\n",
       "    <tr style=\"text-align: right;\">\n",
       "      <th></th>\n",
       "      <th>Number of Unique Items</th>\n",
       "      <th>Average Price</th>\n",
       "      <th>Number of Purchases</th>\n",
       "      <th>Total Revenue</th>\n",
       "    </tr>\n",
       "  </thead>\n",
       "  <tbody>\n",
       "    <tr>\n",
       "      <th>0</th>\n",
       "      <td>179</td>\n",
       "      <td>3.050987</td>\n",
       "      <td>780</td>\n",
       "      <td>2379.77</td>\n",
       "    </tr>\n",
       "  </tbody>\n",
       "</table>\n",
       "</div>"
      ],
      "text/plain": [
       "   Number of Unique Items  Average Price  Number of Purchases  Total Revenue\n",
       "0                     179       3.050987                  780        2379.77"
      ]
     },
     "execution_count": 114,
     "metadata": {},
     "output_type": "execute_result"
    }
   ],
   "source": [
    "total_purchases = pd.Series(pd.DataFrame(purchase_data['Purchase ID']).count()).rename(index={\"Purchase ID\":0})\n",
    "unique_items = pd.Series(pd.DataFrame(purchase_data['Item ID'].unique()).count())\n",
    "average_price = pd.Series(purchase_data['Price'].mean())\n",
    "total_revenue = pd.Series(purchase_data['Price'].sum())\n",
    "\n",
    "final_df = pd.concat([unique_items,average_price,total_purchases,total_revenue],axis=1,ignore_index=True).rename(columns={\n",
    "    0: \"Number of Unique Items\",\n",
    "    1: \"Average Price\",\n",
    "    2: \"Number of Purchases\",\n",
    "    3: \"Total Revenue\"})\n",
    "final_df.head()"
   ]
  },
  {
   "cell_type": "code",
   "execution_count": 111,
   "metadata": {},
   "outputs": [
    {
     "name": "stdout",
     "output_type": "stream",
     "text": [
      "Purchase ID    484\n",
      "SN             484\n",
      "Age            484\n",
      "Gender         484\n",
      "Item ID        484\n",
      "Item Name      484\n",
      "Price          484\n",
      "dtype: int64\n",
      "Purchase ID    81\n",
      "SN             81\n",
      "Age            81\n",
      "Gender         81\n",
      "Item ID        81\n",
      "Item Name      81\n",
      "Price          81\n",
      "dtype: int64\n",
      "Purchase ID    11\n",
      "SN             11\n",
      "Age            11\n",
      "Gender         11\n",
      "Item ID        11\n",
      "Item Name      11\n",
      "Price          11\n",
      "dtype: int64\n"
     ]
    }
   ],
   "source": [
    "deduped_players = purchase_data.drop_duplicates(subset = ['SN'])\n",
    "total_countm = pd.DataFrame(deduped_players.loc[deduped_players['Gender']=='Male']).count()\n",
    "# per_countm = pd.Series(pd.DataFrame(purchase_data['Gender']).percent())\n",
    "total_countf = pd.DataFrame(deduped_players.loc[deduped_players['Gender']=='Female']).count()\n",
    "# per_countf = pd.Series(pd.DataFrame(purchase_data['Gender']).percent())\n",
    "total_counto = pd.DataFrame(deduped_players.loc[deduped_players['Gender']=='Other / Non-Disclosed']).count()\n",
    "# per_counto = pd.Series(pd.DataFrame(purchase_data['Gender']).percent())\n",
    "print(total_countm)\n",
    "print(total_countf)\n",
    "print(total_counto)"
   ]
  },
  {
   "cell_type": "code",
   "execution_count": null,
   "metadata": {},
   "outputs": [],
   "source": []
  }
 ],
 "metadata": {
  "kernelspec": {
   "display_name": "Python 3",
   "language": "python",
   "name": "python3"
  },
  "language_info": {
   "codemirror_mode": {
    "name": "ipython",
    "version": 3
   },
   "file_extension": ".py",
   "mimetype": "text/x-python",
   "name": "python",
   "nbconvert_exporter": "python",
   "pygments_lexer": "ipython3",
   "version": "3.8.5"
  }
 },
 "nbformat": 4,
 "nbformat_minor": 4
}
